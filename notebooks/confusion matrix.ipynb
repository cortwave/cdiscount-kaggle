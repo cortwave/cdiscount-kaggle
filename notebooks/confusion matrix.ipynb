{
 "cells": [
  {
   "cell_type": "code",
   "execution_count": 28,
   "metadata": {
    "collapsed": true
   },
   "outputs": [],
   "source": [
    "import pandas as pd\n",
    "from sklearn.utils import shuffle\n",
    "from sklearn.metrics import confusion_matrix\n",
    "import numpy as np\n",
    "import heapq"
   ]
  },
  {
   "cell_type": "code",
   "execution_count": 29,
   "metadata": {},
   "outputs": [],
   "source": [
    "pred1 = pd.read_csv(\"/Users/westside/Downloads/sample_submission 2.csv\")\n",
    "pred2 = pred1.copy()\n",
    "size = pred1.shape[0]\n",
    "num_classes = 5000\n",
    "sub1 = np.random.randint(low=0, high=num_classes, size=size)\n",
    "sub2 = np.random.randint(low=0, high=num_classes, size=size)\n",
    "pred1.sort_values(by='_id')\n",
    "pred2.sort_values(by='_id')\n",
    "pred1.category_id = sub1\n",
    "pred2.category_id = sub2"
   ]
  },
  {
   "cell_type": "code",
   "execution_count": 30,
   "metadata": {},
   "outputs": [],
   "source": [
    "cm = confusion_matrix(pred1.category_id, pred2.category_id)"
   ]
  },
  {
   "cell_type": "code",
   "execution_count": 31,
   "metadata": {},
   "outputs": [
    {
     "data": {
      "text/plain": [
       "[314948,\n",
       " 1181334,\n",
       " 1208004,\n",
       " 5135874,\n",
       " 6151190,\n",
       " 6921952,\n",
       " 7146693,\n",
       " 7328623,\n",
       " 7732629,\n",
       " 10755752]"
      ]
     },
     "execution_count": 31,
     "metadata": {},
     "output_type": "execute_result"
    }
   ],
   "source": [
    "top_k = 10\n",
    "largest_indexes = heapq.nlargest(top_k, range(num_classes ** 2), cm.take)\n",
    "largest_indexes"
   ]
  },
  {
   "cell_type": "code",
   "execution_count": 32,
   "metadata": {},
   "outputs": [],
   "source": [
    "def get_coord(n, size):\n",
    "    return n // size, n % size"
   ]
  },
  {
   "cell_type": "code",
   "execution_count": 33,
   "metadata": {},
   "outputs": [
    {
     "name": "stdout",
     "output_type": "stream",
     "text": [
      "4\n",
      "4\n",
      "4\n",
      "4\n",
      "4\n",
      "4\n",
      "4\n",
      "4\n",
      "4\n",
      "4\n"
     ]
    }
   ],
   "source": [
    "for li in largest_indexes:\n",
    "    print(cm[get_coord(li, num_classes)])"
   ]
  },
  {
   "cell_type": "code",
   "execution_count": 40,
   "metadata": {},
   "outputs": [
    {
     "data": {
      "text/plain": [
       "73231818"
      ]
     },
     "execution_count": 40,
     "metadata": {},
     "output_type": "execute_result"
    }
   ],
   "source": [
    "cm.shape[0] ** 2 / size"
   ]
  },
  {
   "cell_type": "code",
   "execution_count": null,
   "metadata": {
    "collapsed": true
   },
   "outputs": [],
   "source": []
  }
 ],
 "metadata": {
  "anaconda-cloud": {},
  "kernelspec": {
   "display_name": "Python [default]",
   "language": "python",
   "name": "python3"
  },
  "language_info": {
   "codemirror_mode": {
    "name": "ipython",
    "version": 3
   },
   "file_extension": ".py",
   "mimetype": "text/x-python",
   "name": "python",
   "nbconvert_exporter": "python",
   "pygments_lexer": "ipython3",
   "version": "3.5.2"
  }
 },
 "nbformat": 4,
 "nbformat_minor": 2
}
